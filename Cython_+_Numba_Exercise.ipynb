{
  "nbformat": 4,
  "nbformat_minor": 0,
  "metadata": {
    "colab": {
      "name": "Cython + Numba Exercise.ipynb",
      "provenance": [],
      "collapsed_sections": []
    },
    "kernelspec": {
      "name": "python3",
      "display_name": "Python 3"
    },
    "language_info": {
      "name": "python"
    }
  },
  "cells": [
    {
      "cell_type": "markdown",
      "source": [
        "Exercise is meant for you to experiment with cython and numba to see how much efficiency can be obtained by using these two tools"
      ],
      "metadata": {
        "id": "W8HrmHj7LN1y"
      }
    },
    {
      "cell_type": "code",
      "source": [
        "import numpy as np\n",
        "import seaborn as sb\n",
        "import pandas as pd"
      ],
      "metadata": {
        "id": "iv3vfpzxQisM"
      },
      "execution_count": 1,
      "outputs": []
    },
    {
      "cell_type": "code",
      "source": [
        "class Particle:\n",
        "  def __init__(self, x, y, ang_speed):\n",
        "    self.x = x\n",
        "    self.y = y\n",
        "    self.ang_speed = ang_speed"
      ],
      "metadata": {
        "id": "duLFBDZPPheC"
      },
      "execution_count": 3,
      "outputs": []
    },
    {
      "cell_type": "code",
      "execution_count": 19,
      "metadata": {
        "id": "eoSyUNXJCZB-"
      },
      "outputs": [],
      "source": [
        "def evolve_wrapper(dt, particles):\n",
        "  timestep = 1\n",
        "  nsteps = int(dt/timestep)\n",
        "  r_i = np.array([[p.x, p.y] for p in particles])\n",
        "  ang_speed = np.array([p.ang_speed for p in particles])\n",
        "  evolve(r_i, ang_speed, timestep, nsteps)\n",
        "\n",
        "  for i, p in enumerate(particles):\n",
        "    p.x, p.y = r_i[i]\n",
        "\n",
        "def evolve(r_i, ang_speed, timestep, nsteps):\n",
        "  v_i = np.empty_like(r_i)\n",
        "  for i in range(nsteps):\n",
        "    norm_i = np.sqrt((r_i ** 2).sum(axis=1))\n",
        "    v_i = r_i[:, [1,0]]\n",
        "    v_i[:, 0] *= -1\n",
        "    v_i /= norm_i[:, np.newaxis]\n",
        "    d_i = timestep * ang_speed[:, np.newaxis] * v_i\n",
        "\n",
        "    r_i += d_i"
      ]
    },
    {
      "cell_type": "code",
      "source": [
        "n_particle = 100\n",
        "coord = np.random.randn(n_particle, 3)\n",
        "particles = []\n",
        "for i in range(0, n_particle):\n",
        "  particles.append(Particle(coord[i][0], coord[i][1], coord[i][2]))"
      ],
      "metadata": {
        "id": "H6YiZC1qV6PI"
      },
      "execution_count": 20,
      "outputs": []
    },
    {
      "cell_type": "code",
      "source": [
        "sb.scatterplot(x='x', y='y', data=pd.DataFrame([[p.x,p.y] for p in particles],columns = ['x', 'y']))"
      ],
      "metadata": {
        "colab": {
          "base_uri": "https://localhost:8080/",
          "height": 296
        },
        "id": "Q6ZsQRA0bM_X",
        "outputId": "6895b95d-8945-4a17-eb5c-9d9249489341"
      },
      "execution_count": 6,
      "outputs": [
        {
          "output_type": "execute_result",
          "data": {
            "text/plain": [
              "<matplotlib.axes._subplots.AxesSubplot at 0x7f3733089fd0>"
            ]
          },
          "metadata": {},
          "execution_count": 6
        },
        {
          "output_type": "display_data",
          "data": {
            "text/plain": [
              "<Figure size 432x288 with 1 Axes>"
            ],
            "image/png": "[encoded data removed]"
          },
          "metadata": {
            "needs_background": "light"
          }
        }
      ]
    },
    {
      "cell_type": "code",
      "source": [
        "evolve_wrapper(10000, particles)"
      ],
      "metadata": {
        "id": "OecxMgYKbppR"
      },
      "execution_count": 21,
      "outputs": []
    },
    {
      "cell_type": "code",
      "source": [
        "sb.scatterplot(x='x', y='y', data=pd.DataFrame([[p.x,p.y] for p in particles],columns = ['x', 'y']))"
      ],
      "metadata": {
        "colab": {
          "base_uri": "https://localhost:8080/",
          "height": 296
        },
        "id": "Pwr0aCHXblyO",
        "outputId": "2cc97091-de0e-41f8-efe6-c4f9c0057006"
      },
      "execution_count": 8,
      "outputs": [
        {
          "output_type": "execute_result",
          "data": {
            "text/plain": [
              "<matplotlib.axes._subplots.AxesSubplot at 0x7f3732f9e310>"
            ]
          },
          "metadata": {},
          "execution_count": 8
        },
        {
          "output_type": "display_data",
          "data": {
            "text/plain": [
              "<Figure size 432x288 with 1 Axes>"
            ],
            "image/png": "[encoded data removed]"
          },
          "metadata": {
            "needs_background": "light"
          }
        }
      ]
    },
    {
      "cell_type": "code",
      "source": [
        "%timeit evolve_wrapper(10000, particles)"
      ],
      "metadata": {
        "colab": {
          "base_uri": "https://localhost:8080/"
        },
        "id": "ozTW98facEM6",
        "outputId": "52fa51fa-1fdc-4a39-9a35-9b673c4bb353"
      },
      "execution_count": 22,
      "outputs": [
        {
          "output_type": "stream",
          "name": "stdout",
          "text": [
            "332 ms ± 45.9 ms per loop (mean ± std. dev. of 7 runs, 1 loop each)\n"
          ]
        }
      ]
    },
    {
      "cell_type": "markdown",
      "source": [
        "Can you rewrite the evolve method to make it faster?"
      ],
      "metadata": {
        "id": "LeOasafdcAjl"
      }
    },
    {
      "cell_type": "code",
      "source": [
        "import cython\n",
        "%load_ext Cython"
      ],
      "metadata": {
        "id": "jV5nh942n1V2"
      },
      "execution_count": 10,
      "outputs": []
    },
    {
      "cell_type": "code",
      "source": [
        "def c_evolve_wrapper(dt, particles):\n",
        "  timestep = 1\n",
        "  nsteps = int(dt/timestep)\n",
        "  r_i = np.array([[p.x, p.y] for p in particles])\n",
        "  ang_speed = np.array([p.ang_speed for p in particles])\n",
        "  c_evolve(r_i, ang_speed, timestep, nsteps)\n",
        "\n",
        "  for i, p in enumerate(particles):\n",
        "    p.x, p.y = r_i[i]"
      ],
      "metadata": {
        "id": "j1fSyH1rp1E8"
      },
      "execution_count": 24,
      "outputs": []
    },
    {
      "cell_type": "code",
      "source": [
        "%%cython\n",
        "\n",
        "from libc.math cimport sqrt\n",
        "\n",
        "def c_evolve(double[:, :] r_i, double[:] ang_speed, double timestep, int nsteps):\n",
        "  cdef int i, j\n",
        "  cdef int n_particles = r_i.shape[0]\n",
        "  cdef double x, y, ang_speed_j, vx, vy, dx, dy\n",
        "  \n",
        "  for i in range(nsteps):\n",
        "    for j in range(n_particles):\n",
        "      x = r_i[j, 0]\n",
        "      y = r_i[j, 1]\n",
        "      ang_speed_j = ang_speed[j]\n",
        "\n",
        "      norm = sqrt(x ** 2 + y ** 2)\n",
        "\n",
        "      vx = -y / norm\n",
        "      vy = x / norm\n",
        "\n",
        "      dx = timestep * ang_speed_j * vx\n",
        "      dy = timestep * ang_speed_j * vx\n",
        "\n",
        "      r_i[j, 0] += dx\n",
        "      r_i[j, 1] += dy\n"
      ],
      "metadata": {
        "id": "XZwGol8sbxne"
      },
      "execution_count": 25,
      "outputs": []
    },
    {
      "cell_type": "code",
      "source": [
        "%timeit c_evolve_wrapper(10000, particles)"
      ],
      "metadata": {
        "colab": {
          "base_uri": "https://localhost:8080/"
        },
        "id": "N6uMogq5pR2x",
        "outputId": "3f558344-8aaf-449e-f2b2-f7f75f7441c3"
      },
      "execution_count": 27,
      "outputs": [
        {
          "output_type": "stream",
          "name": "stdout",
          "text": [
            "72.1 ms ± 13.2 ms per loop (mean ± std. dev. of 7 runs, 10 loops each)\n"
          ]
        }
      ]
    }
  ]
}