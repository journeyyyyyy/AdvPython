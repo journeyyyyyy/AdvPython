{
  "nbformat": 4,
  "nbformat_minor": 0,
  "metadata": {
    "colab": {
      "name": "Week1_Exercises.ipynb",
      "provenance": [],
      "collapsed_sections": []
    },
    "kernelspec": {
      "name": "python3",
      "display_name": "Python 3"
    },
    "language_info": {
      "name": "python"
    }
  },
  "cells": [
    {
      "cell_type": "markdown",
      "source": [
        "## Numpy"
      ],
      "metadata": {
        "id": "W9WNVv9iUm0X"
      }
    },
    {
      "cell_type": "code",
      "source": [
        "import numpy as np"
      ],
      "metadata": {
        "id": "sxi83B8qUpv5"
      },
      "execution_count": null,
      "outputs": []
    },
    {
      "cell_type": "markdown",
      "source": [
        "1. Create an `ndarray` of shape (3,5). All values of the array are 100."
      ],
      "metadata": {
        "id": "YwyT3EQxVCgm"
      }
    },
    {
      "cell_type": "code",
      "source": [
        "x = np.ones((3, 5)) * 100\n",
        "x"
      ],
      "metadata": {
        "id": "bdsABaxNUqVr",
        "colab": {
          "base_uri": "https://localhost:8080/"
        },
        "outputId": "92919a09-a247-463f-f542-758eb846c7e7"
      },
      "execution_count": null,
      "outputs": [
        {
          "output_type": "execute_result",
          "data": {
            "text/plain": [
              "array([[100., 100., 100., 100., 100.],\n",
              "       [100., 100., 100., 100., 100.],\n",
              "       [100., 100., 100., 100., 100.]])"
            ]
          },
          "metadata": {},
          "execution_count": 3
        }
      ]
    },
    {
      "cell_type": "markdown",
      "source": [
        "2. Create a border of zeros that surround the result in Question 1, so that the output is of shape (5,7), the outside values are 0 and the inside values are 100. "
      ],
      "metadata": {
        "id": "iYTCppLJVU3O"
      }
    },
    {
      "cell_type": "code",
      "source": [
        "np.pad(x, pad_width=1)"
      ],
      "metadata": {
        "id": "zYVIlzrrUqYY",
        "colab": {
          "base_uri": "https://localhost:8080/"
        },
        "outputId": "d0a0e39b-0656-42d2-91a9-5af41f0ab435"
      },
      "execution_count": null,
      "outputs": [
        {
          "output_type": "execute_result",
          "data": {
            "text/plain": [
              "array([[  0.,   0.,   0.,   0.,   0.,   0.,   0.],\n",
              "       [  0., 100., 100., 100., 100., 100.,   0.],\n",
              "       [  0., 100., 100., 100., 100., 100.,   0.],\n",
              "       [  0., 100., 100., 100., 100., 100.,   0.],\n",
              "       [  0.,   0.,   0.,   0.,   0.,   0.,   0.]])"
            ]
          },
          "metadata": {},
          "execution_count": 4
        }
      ]
    },
    {
      "cell_type": "markdown",
      "source": [
        "3. Create a 5x5 matrix with values 1,2,3,4 just below the diagonal.\n"
      ],
      "metadata": {
        "id": "YDJndwA2V1Af"
      }
    },
    {
      "cell_type": "code",
      "source": [
        "np.diag(np.arange(4) + 1, k=-1)"
      ],
      "metadata": {
        "id": "MGK4UJutUqd3",
        "colab": {
          "base_uri": "https://localhost:8080/"
        },
        "outputId": "ccd57c3b-7dfe-4e2d-b46f-52f9d7229a61"
      },
      "execution_count": null,
      "outputs": [
        {
          "output_type": "execute_result",
          "data": {
            "text/plain": [
              "array([[0, 0, 0, 0, 0],\n",
              "       [1, 0, 0, 0, 0],\n",
              "       [0, 2, 0, 0, 0],\n",
              "       [0, 0, 3, 0, 0],\n",
              "       [0, 0, 0, 4, 0]])"
            ]
          },
          "metadata": {},
          "execution_count": 5
        }
      ]
    },
    {
      "cell_type": "markdown",
      "source": [
        "4. Create a checkerboard 8x8 matrix using the tile function"
      ],
      "metadata": {
        "id": "NYrOwCPzWMeD"
      }
    },
    {
      "cell_type": "code",
      "source": [
        "np.tile(np.vstack([np.tile([1, 0], 4), np.tile([0, 1], 4)]), (4, 1))"
      ],
      "metadata": {
        "id": "3pEOA810WL07",
        "colab": {
          "base_uri": "https://localhost:8080/"
        },
        "outputId": "38f09198-8461-4ca7-a3c8-1b4697f9bf05"
      },
      "execution_count": null,
      "outputs": [
        {
          "output_type": "execute_result",
          "data": {
            "text/plain": [
              "array([[1, 0, 1, 0, 1, 0, 1, 0],\n",
              "       [0, 1, 0, 1, 0, 1, 0, 1],\n",
              "       [1, 0, 1, 0, 1, 0, 1, 0],\n",
              "       [0, 1, 0, 1, 0, 1, 0, 1],\n",
              "       [1, 0, 1, 0, 1, 0, 1, 0],\n",
              "       [0, 1, 0, 1, 0, 1, 0, 1],\n",
              "       [1, 0, 1, 0, 1, 0, 1, 0],\n",
              "       [0, 1, 0, 1, 0, 1, 0, 1]])"
            ]
          },
          "metadata": {},
          "execution_count": 11
        }
      ]
    },
    {
      "cell_type": "markdown",
      "source": [
        "5. Sort a 2d-array by the nth column"
      ],
      "metadata": {
        "id": "1HNTk70SWHjV"
      }
    },
    {
      "cell_type": "code",
      "source": [
        "arr = np.hstack([np.random.rand(12)]).reshape(-1, 3)\n",
        "print(arr)\n",
        "np.sort(arr.view('f8,f8,f8'), order=['f1'], axis=0)"
      ],
      "metadata": {
        "id": "9cxSyDIkUqgi",
        "colab": {
          "base_uri": "https://localhost:8080/"
        },
        "outputId": "9a605b71-b440-4f15-c0ee-05624139603b"
      },
      "execution_count": null,
      "outputs": [
        {
          "output_type": "stream",
          "name": "stdout",
          "text": [
            "[[0.12263971 0.29665541 0.94511153]\n",
            " [0.98280729 0.50925414 0.15228416]\n",
            " [0.68650034 0.16268925 0.36155802]\n",
            " [0.09148439 0.92177628 0.89505899]]\n"
          ]
        },
        {
          "output_type": "execute_result",
          "data": {
            "text/plain": [
              "array([[(0.68650034, 0.16268925, 0.36155802)],\n",
              "       [(0.12263971, 0.29665541, 0.94511153)],\n",
              "       [(0.98280729, 0.50925414, 0.15228416)],\n",
              "       [(0.09148439, 0.92177628, 0.89505899)]],\n",
              "      dtype=[('f0', '<f8'), ('f1', '<f8'), ('f2', '<f8')])"
            ]
          },
          "metadata": {},
          "execution_count": 20
        }
      ]
    },
    {
      "cell_type": "markdown",
      "source": [
        "6. Compute a matrix rank"
      ],
      "metadata": {
        "id": "z__MABZ1W19Z"
      }
    },
    {
      "cell_type": "code",
      "source": [
        "m = np.matrix(np.random.rand(9).reshape(-1, 3))\n",
        "print(m)\n",
        "np.linalg.matrix_rank(m)"
      ],
      "metadata": {
        "id": "EKcIavS4UqjG",
        "colab": {
          "base_uri": "https://localhost:8080/"
        },
        "outputId": "d57ee329-db30-4567-fd84-ac60845c4e39"
      },
      "execution_count": null,
      "outputs": [
        {
          "output_type": "stream",
          "name": "stdout",
          "text": [
            "[[0.11926021 0.8775477  0.98240132]\n",
            " [0.21132579 0.40884896 0.33548589]\n",
            " [0.58789874 0.60144223 0.09697618]]\n"
          ]
        },
        {
          "output_type": "execute_result",
          "data": {
            "text/plain": [
              "3"
            ]
          },
          "metadata": {},
          "execution_count": 22
        }
      ]
    },
    {
      "cell_type": "markdown",
      "source": [
        "7. Consider an array of dimension (5,5,3), how to mulitply it by an array with dimensions (5,5)?"
      ],
      "metadata": {
        "id": "Edizw3vbXOC6"
      }
    },
    {
      "cell_type": "code",
      "source": [
        "x = np.arange(5 * 5 * 3).reshape(5, 5, 3)\n",
        "y = np.arange(5 * 5).reshape(5, -1)\n",
        "print(f'x = {x}, y = {y}')\n",
        "x * y.reshape(5, 5, 1)"
      ],
      "metadata": {
        "id": "JITZPgiyXhHJ",
        "colab": {
          "base_uri": "https://localhost:8080/"
        },
        "outputId": "2aadeebc-dab9-47ff-8d72-c9a753cee883"
      },
      "execution_count": null,
      "outputs": [
        {
          "output_type": "stream",
          "name": "stdout",
          "text": [
            "x = [[[ 0  1  2]\n",
            "  [ 3  4  5]\n",
            "  [ 6  7  8]\n",
            "  [ 9 10 11]\n",
            "  [12 13 14]]\n",
            "\n",
            " [[15 16 17]\n",
            "  [18 19 20]\n",
            "  [21 22 23]\n",
            "  [24 25 26]\n",
            "  [27 28 29]]\n",
            "\n",
            " [[30 31 32]\n",
            "  [33 34 35]\n",
            "  [36 37 38]\n",
            "  [39 40 41]\n",
            "  [42 43 44]]\n",
            "\n",
            " [[45 46 47]\n",
            "  [48 49 50]\n",
            "  [51 52 53]\n",
            "  [54 55 56]\n",
            "  [57 58 59]]\n",
            "\n",
            " [[60 61 62]\n",
            "  [63 64 65]\n",
            "  [66 67 68]\n",
            "  [69 70 71]\n",
            "  [72 73 74]]], y = [[ 0  1  2  3  4]\n",
            " [ 5  6  7  8  9]\n",
            " [10 11 12 13 14]\n",
            " [15 16 17 18 19]\n",
            " [20 21 22 23 24]]\n"
          ]
        },
        {
          "output_type": "execute_result",
          "data": {
            "text/plain": [
              "array([[[   0,    0,    0],\n",
              "        [   3,    4,    5],\n",
              "        [  12,   14,   16],\n",
              "        [  27,   30,   33],\n",
              "        [  48,   52,   56]],\n",
              "\n",
              "       [[  75,   80,   85],\n",
              "        [ 108,  114,  120],\n",
              "        [ 147,  154,  161],\n",
              "        [ 192,  200,  208],\n",
              "        [ 243,  252,  261]],\n",
              "\n",
              "       [[ 300,  310,  320],\n",
              "        [ 363,  374,  385],\n",
              "        [ 432,  444,  456],\n",
              "        [ 507,  520,  533],\n",
              "        [ 588,  602,  616]],\n",
              "\n",
              "       [[ 675,  690,  705],\n",
              "        [ 768,  784,  800],\n",
              "        [ 867,  884,  901],\n",
              "        [ 972,  990, 1008],\n",
              "        [1083, 1102, 1121]],\n",
              "\n",
              "       [[1200, 1220, 1240],\n",
              "        [1323, 1344, 1365],\n",
              "        [1452, 1474, 1496],\n",
              "        [1587, 1610, 1633],\n",
              "        [1728, 1752, 1776]]])"
            ]
          },
          "metadata": {},
          "execution_count": 28
        }
      ]
    },
    {
      "cell_type": "markdown",
      "source": [
        "8. Consider a 16x16 array, how to get the block-sum (block size is 4x4)?"
      ],
      "metadata": {
        "id": "toN4wwRfXhka"
      }
    },
    {
      "cell_type": "code",
      "source": [
        "# x = np.ones((16, 16))\n",
        "x = np.arange(16 * 16).reshape(16, 16)\n",
        "print(x)\n",
        "k = 4\n",
        "np.add.reduceat(np.add.reduceat(x, np.arange(0, x.shape[0], k), axis=0), np.arange(0, x.shape[1], k), axis=1)"
      ],
      "metadata": {
        "id": "ZxEeQA4DXh5W",
        "colab": {
          "base_uri": "https://localhost:8080/"
        },
        "outputId": "03c1d60b-02b7-420c-83f6-28ea53a2576f"
      },
      "execution_count": null,
      "outputs": [
        {
          "output_type": "stream",
          "name": "stdout",
          "text": [
            "[[  0   1   2   3   4   5   6   7   8   9  10  11  12  13  14  15]\n",
            " [ 16  17  18  19  20  21  22  23  24  25  26  27  28  29  30  31]\n",
            " [ 32  33  34  35  36  37  38  39  40  41  42  43  44  45  46  47]\n",
            " [ 48  49  50  51  52  53  54  55  56  57  58  59  60  61  62  63]\n",
            " [ 64  65  66  67  68  69  70  71  72  73  74  75  76  77  78  79]\n",
            " [ 80  81  82  83  84  85  86  87  88  89  90  91  92  93  94  95]\n",
            " [ 96  97  98  99 100 101 102 103 104 105 106 107 108 109 110 111]\n",
            " [112 113 114 115 116 117 118 119 120 121 122 123 124 125 126 127]\n",
            " [128 129 130 131 132 133 134 135 136 137 138 139 140 141 142 143]\n",
            " [144 145 146 147 148 149 150 151 152 153 154 155 156 157 158 159]\n",
            " [160 161 162 163 164 165 166 167 168 169 170 171 172 173 174 175]\n",
            " [176 177 178 179 180 181 182 183 184 185 186 187 188 189 190 191]\n",
            " [192 193 194 195 196 197 198 199 200 201 202 203 204 205 206 207]\n",
            " [208 209 210 211 212 213 214 215 216 217 218 219 220 221 222 223]\n",
            " [224 225 226 227 228 229 230 231 232 233 234 235 236 237 238 239]\n",
            " [240 241 242 243 244 245 246 247 248 249 250 251 252 253 254 255]]\n"
          ]
        },
        {
          "output_type": "execute_result",
          "data": {
            "text/plain": [
              "array([[ 408,  472,  536,  600],\n",
              "       [1432, 1496, 1560, 1624],\n",
              "       [2456, 2520, 2584, 2648],\n",
              "       [3480, 3544, 3608, 3672]])"
            ]
          },
          "metadata": {},
          "execution_count": 36
        }
      ]
    },
    {
      "cell_type": "markdown",
      "source": [
        "9. Get the n largest values of an array"
      ],
      "metadata": {
        "id": "L15y9mOiXirL"
      }
    },
    {
      "cell_type": "code",
      "source": [
        "x = np.arange(10, 1, -1)\n",
        "print(f'x = {x}')\n",
        "sorted_indices = np.argsort(x)\n",
        "\n",
        "n = 3\n",
        "x[sorted_indices[-n:]]"
      ],
      "metadata": {
        "id": "-tp-G1PpXi-3",
        "colab": {
          "base_uri": "https://localhost:8080/"
        },
        "outputId": "728f2d28-922e-45b6-e37b-ad5401ea736f"
      },
      "execution_count": null,
      "outputs": [
        {
          "output_type": "stream",
          "name": "stdout",
          "text": [
            "x = [10  9  8  7  6  5  4  3  2]\n"
          ]
        },
        {
          "output_type": "execute_result",
          "data": {
            "text/plain": [
              "array([ 8,  9, 10])"
            ]
          },
          "metadata": {},
          "execution_count": 38
        }
      ]
    },
    {
      "cell_type": "markdown",
      "source": [
        "10. Implement the Game of Life using numpy arrays"
      ],
      "metadata": {
        "id": "_cI2xR4mXjJd"
      }
    },
    {
      "cell_type": "code",
      "source": [
        "class Status:\n",
        "  EMPTY = 0\n",
        "  ALIVE = 1\n",
        "\n",
        "class Grid:\n",
        "  def __init__(self, height, width):\n",
        "    self.height = height\n",
        "    self.width = width\n",
        "    self.grid = np.zeros((height, width))\n",
        "\n",
        "  def get(self, x, y):\n",
        "    return self.grid[x % self.height, y % self.width]\n",
        "\n",
        "  def set(self, x, y, state):\n",
        "    self.grid[x % self.height, y % self.width] = state\n",
        "\n",
        "\n",
        "def count_neighbors(x, y, get):\n",
        "  ds = [[0, 1], [0, -1], [1, 0], [-1, 0], [1, 1], [1, -1], [-1, 1], [-1, -1]]\n",
        "  state = np.sum([get(x + d[0], y + d[1]) for d in ds])\n",
        "  return state\n",
        "\n",
        "\n",
        "def game_logic(state, neighbors):\n",
        "  if state == Status.ALIVE:\n",
        "    if neighbors < 2 or neighbors > 3:\n",
        "      return Status.EMPTY\n",
        "\n",
        "  else:\n",
        "    if neighbors == 3:\n",
        "      return Status.ALIVE\n",
        "  return state\n",
        "\n",
        "\n",
        "def step_cell(x, y, get, set):\n",
        "  state = get(x, y)\n",
        "  neighbors = count_neighbors(x, y, get)\n",
        "  next_state = game_logic(state, neighbors)\n",
        "  set(x, y, next_state)\n",
        "\n",
        "\n",
        "def simulate(grid):\n",
        "  next_grid = Grid(grid.height, grid.width)\n",
        "  for x in range(grid.height):\n",
        "    for y in range(grid.width):\n",
        "      step_cell(x, y, grid.get, next_grid.set)\n",
        "  return next_grid"
      ],
      "metadata": {
        "id": "2PQX2EnnUqlr"
      },
      "execution_count": null,
      "outputs": []
    },
    {
      "cell_type": "markdown",
      "source": [
        "Check https://github.com/rougier/numpy-100/blob/master/100_Numpy_exercises.ipynb for more Numpy exercises."
      ],
      "metadata": {
        "id": "JjTspHcYYy1r"
      }
    },
    {
      "cell_type": "markdown",
      "source": [
        "## Pandas"
      ],
      "metadata": {
        "id": "duxYLMSbUrIy"
      }
    },
    {
      "cell_type": "code",
      "source": [
        "import pandas as pd\n",
        "import seaborn as sb"
      ],
      "metadata": {
        "id": "X3JdMd73UsfF"
      },
      "execution_count": null,
      "outputs": []
    },
    {
      "cell_type": "markdown",
      "source": [
        "1. Using NumPy, create a Pandas DataFrame with five rows and three columns"
      ],
      "metadata": {
        "id": "gTqmqHeXYpA9"
      }
    },
    {
      "cell_type": "code",
      "source": [
        "pd.DataFrame(np.ones((5, 3)))"
      ],
      "metadata": {
        "id": "5VtgfgDSUtDq",
        "colab": {
          "base_uri": "https://localhost:8080/",
          "height": 206
        },
        "outputId": "96e2735e-3a5c-472b-eeb1-c4e474beab76"
      },
      "execution_count": null,
      "outputs": [
        {
          "output_type": "execute_result",
          "data": {
            "text/plain": [
              "     0    1    2\n",
              "0  1.0  1.0  1.0\n",
              "1  1.0  1.0  1.0\n",
              "2  1.0  1.0  1.0\n",
              "3  1.0  1.0  1.0\n",
              "4  1.0  1.0  1.0"
            ],
            "text/html": [
              "\n",
              "  <div id=\"df-dd94c1a9-899f-4ee5-9440-3dc8edff9898\">\n",
              "    <div class=\"colab-df-container\">\n",
              "      <div>\n",
              "<style scoped>\n",
              "    .dataframe tbody tr th:only-of-type {\n",
              "        vertical-align: middle;\n",
              "    }\n",
              "\n",
              "    .dataframe tbody tr th {\n",
              "        vertical-align: top;\n",
              "    }\n",
              "\n",
              "    .dataframe thead th {\n",
              "        text-align: right;\n",
              "    }\n",
              "</style>\n",
              "<table border=\"1\" class=\"dataframe\">\n",
              "  <thead>\n",
              "    <tr style=\"text-align: right;\">\n",
              "      <th></th>\n",
              "      <th>0</th>\n",
              "      <th>1</th>\n",
              "      <th>2</th>\n",
              "    </tr>\n",
              "  </thead>\n",
              "  <tbody>\n",
              "    <tr>\n",
              "      <th>0</th>\n",
              "      <td>1.0</td>\n",
              "      <td>1.0</td>\n",
              "      <td>1.0</td>\n",
              "    </tr>\n",
              "    <tr>\n",
              "      <th>1</th>\n",
              "      <td>1.0</td>\n",
              "      <td>1.0</td>\n",
              "      <td>1.0</td>\n",
              "    </tr>\n",
              "    <tr>\n",
              "      <th>2</th>\n",
              "      <td>1.0</td>\n",
              "      <td>1.0</td>\n",
              "      <td>1.0</td>\n",
              "    </tr>\n",
              "    <tr>\n",
              "      <th>3</th>\n",
              "      <td>1.0</td>\n",
              "      <td>1.0</td>\n",
              "      <td>1.0</td>\n",
              "    </tr>\n",
              "    <tr>\n",
              "      <th>4</th>\n",
              "      <td>1.0</td>\n",
              "      <td>1.0</td>\n",
              "      <td>1.0</td>\n",
              "    </tr>\n",
              "  </tbody>\n",
              "</table>\n",
              "</div>\n",
              "      <button class=\"colab-df-convert\" onclick=\"convertToInteractive('df-dd94c1a9-899f-4ee5-9440-3dc8edff9898')\"\n",
              "              title=\"Convert this dataframe to an interactive table.\"\n",
              "              style=\"display:none;\">\n",
              "        \n",
              "  <svg xmlns=\"http://www.w3.org/2000/svg\" height=\"24px\"viewBox=\"0 0 24 24\"\n",
              "       width=\"24px\">\n",
              "    <path d=\"M0 0h24v24H0V0z\" fill=\"none\"/>\n",
              "    <path d=\"M18.56 5.44l.94 2.06.94-2.06 2.06-.94-2.06-.94-.94-2.06-.94 2.06-2.06.94zm-11 1L8.5 8.5l.94-2.06 2.06-.94-2.06-.94L8.5 2.5l-.94 2.06-2.06.94zm10 10l.94 2.06.94-2.06 2.06-.94-2.06-.94-.94-2.06-.94 2.06-2.06.94z\"/><path d=\"M17.41 7.96l-1.37-1.37c-.4-.4-.92-.59-1.43-.59-.52 0-1.04.2-1.43.59L10.3 9.45l-7.72 7.72c-.78.78-.78 2.05 0 2.83L4 21.41c.39.39.9.59 1.41.59.51 0 1.02-.2 1.41-.59l7.78-7.78 2.81-2.81c.8-.78.8-2.07 0-2.86zM5.41 20L4 18.59l7.72-7.72 1.47 1.35L5.41 20z\"/>\n",
              "  </svg>\n",
              "      </button>\n",
              "      \n",
              "  <style>\n",
              "    .colab-df-container {\n",
              "      display:flex;\n",
              "      flex-wrap:wrap;\n",
              "      gap: 12px;\n",
              "    }\n",
              "\n",
              "    .colab-df-convert {\n",
              "      background-color: #E8F0FE;\n",
              "      border: none;\n",
              "      border-radius: 50%;\n",
              "      cursor: pointer;\n",
              "      display: none;\n",
              "      fill: #1967D2;\n",
              "      height: 32px;\n",
              "      padding: 0 0 0 0;\n",
              "      width: 32px;\n",
              "    }\n",
              "\n",
              "    .colab-df-convert:hover {\n",
              "      background-color: #E2EBFA;\n",
              "      box-shadow: 0px 1px 2px rgba(60, 64, 67, 0.3), 0px 1px 3px 1px rgba(60, 64, 67, 0.15);\n",
              "      fill: #174EA6;\n",
              "    }\n",
              "\n",
              "    [theme=dark] .colab-df-convert {\n",
              "      background-color: #3B4455;\n",
              "      fill: #D2E3FC;\n",
              "    }\n",
              "\n",
              "    [theme=dark] .colab-df-convert:hover {\n",
              "      background-color: #434B5C;\n",
              "      box-shadow: 0px 1px 3px 1px rgba(0, 0, 0, 0.15);\n",
              "      filter: drop-shadow(0px 1px 2px rgba(0, 0, 0, 0.3));\n",
              "      fill: #FFFFFF;\n",
              "    }\n",
              "  </style>\n",
              "\n",
              "      <script>\n",
              "        const buttonEl =\n",
              "          document.querySelector('#df-dd94c1a9-899f-4ee5-9440-3dc8edff9898 button.colab-df-convert');\n",
              "        buttonEl.style.display =\n",
              "          google.colab.kernel.accessAllowed ? 'block' : 'none';\n",
              "\n",
              "        async function convertToInteractive(key) {\n",
              "          const element = document.querySelector('#df-dd94c1a9-899f-4ee5-9440-3dc8edff9898');\n",
              "          const dataTable =\n",
              "            await google.colab.kernel.invokeFunction('convertToInteractive',\n",
              "                                                     [key], {});\n",
              "          if (!dataTable) return;\n",
              "\n",
              "          const docLinkHtml = 'Like what you see? Visit the ' +\n",
              "            '<a target=\"_blank\" href=https://colab.research.google.com/notebooks/data_table.ipynb>data table notebook</a>'\n",
              "            + ' to learn more about interactive tables.';\n",
              "          element.innerHTML = '';\n",
              "          dataTable['output_type'] = 'display_data';\n",
              "          await google.colab.output.renderOutput(dataTable, element);\n",
              "          const docLink = document.createElement('div');\n",
              "          docLink.innerHTML = docLinkHtml;\n",
              "          element.appendChild(docLink);\n",
              "        }\n",
              "      </script>\n",
              "    </div>\n",
              "  </div>\n",
              "  "
            ]
          },
          "metadata": {},
          "execution_count": 40
        }
      ]
    },
    {
      "cell_type": "markdown",
      "source": [
        "The following six questions depend on the penguins dataset."
      ],
      "metadata": {
        "id": "9qC1OJHFYryX"
      }
    },
    {
      "cell_type": "code",
      "source": [
        "df_penguins = sb.load_dataset('penguins')"
      ],
      "metadata": {
        "id": "iz_sYU_7UtGZ"
      },
      "execution_count": null,
      "outputs": []
    },
    {
      "cell_type": "markdown",
      "source": [
        "2. What function can we use to drop the rows that have missing data?"
      ],
      "metadata": {
        "id": "zewpETumaw2B"
      }
    },
    {
      "cell_type": "code",
      "source": [
        "df_full = df_penguins.dropna(axis=0, how='any')\n",
        "df_full"
      ],
      "metadata": {
        "id": "GzqdIEsqayY9",
        "colab": {
          "base_uri": "https://localhost:8080/",
          "height": 424
        },
        "outputId": "0ceca7fb-3aa1-4b67-d605-5848d39996a4"
      },
      "execution_count": null,
      "outputs": [
        {
          "output_type": "execute_result",
          "data": {
            "text/plain": [
              "    species     island  bill_length_mm  bill_depth_mm  flipper_length_mm  \\\n",
              "0    Adelie  Torgersen            39.1           18.7              181.0   \n",
              "1    Adelie  Torgersen            39.5           17.4              186.0   \n",
              "2    Adelie  Torgersen            40.3           18.0              195.0   \n",
              "4    Adelie  Torgersen            36.7           19.3              193.0   \n",
              "5    Adelie  Torgersen            39.3           20.6              190.0   \n",
              "..      ...        ...             ...            ...                ...   \n",
              "338  Gentoo     Biscoe            47.2           13.7              214.0   \n",
              "340  Gentoo     Biscoe            46.8           14.3              215.0   \n",
              "341  Gentoo     Biscoe            50.4           15.7              222.0   \n",
              "342  Gentoo     Biscoe            45.2           14.8              212.0   \n",
              "343  Gentoo     Biscoe            49.9           16.1              213.0   \n",
              "\n",
              "     body_mass_g     sex  \n",
              "0         3750.0    Male  \n",
              "1         3800.0  Female  \n",
              "2         3250.0  Female  \n",
              "4         3450.0  Female  \n",
              "5         3650.0    Male  \n",
              "..           ...     ...  \n",
              "338       4925.0  Female  \n",
              "340       4850.0  Female  \n",
              "341       5750.0    Male  \n",
              "342       5200.0  Female  \n",
              "343       5400.0    Male  \n",
              "\n",
              "[333 rows x 7 columns]"
            ],
            "text/html": [
              "\n",
              "  <div id=\"df-f32aa751-e40d-418b-86f4-ac566390d596\">\n",
              "    <div class=\"colab-df-container\">\n",
              "      <div>\n",
              "<style scoped>\n",
              "    .dataframe tbody tr th:only-of-type {\n",
              "        vertical-align: middle;\n",
              "    }\n",
              "\n",
              "    .dataframe tbody tr th {\n",
              "        vertical-align: top;\n",
              "    }\n",
              "\n",
              "    .dataframe thead th {\n",
              "        text-align: right;\n",
              "    }\n",
              "</style>\n",
              "<table border=\"1\" class=\"dataframe\">\n",
              "  <thead>\n",
              "    <tr style=\"text-align: right;\">\n",
              "      <th></th>\n",
              "      <th>species</th>\n",
              "      <th>island</th>\n",
              "      <th>bill_length_mm</th>\n",
              "      <th>bill_depth_mm</th>\n",
              "      <th>flipper_length_mm</th>\n",
              "      <th>body_mass_g</th>\n",
              "      <th>sex</th>\n",
              "    </tr>\n",
              "  </thead>\n",
              "  <tbody>\n",
              "    <tr>\n",
              "      <th>0</th>\n",
              "      <td>Adelie</td>\n",
              "      <td>Torgersen</td>\n",
              "      <td>39.1</td>\n",
              "      <td>18.7</td>\n",
              "      <td>181.0</td>\n",
              "      <td>3750.0</td>\n",
              "      <td>Male</td>\n",
              "    </tr>\n",
              "    <tr>\n",
              "      <th>1</th>\n",
              "      <td>Adelie</td>\n",
              "      <td>Torgersen</td>\n",
              "      <td>39.5</td>\n",
              "      <td>17.4</td>\n",
              "      <td>186.0</td>\n",
              "      <td>3800.0</td>\n",
              "      <td>Female</td>\n",
              "    </tr>\n",
              "    <tr>\n",
              "      <th>2</th>\n",
              "      <td>Adelie</td>\n",
              "      <td>Torgersen</td>\n",
              "      <td>40.3</td>\n",
              "      <td>18.0</td>\n",
              "      <td>195.0</td>\n",
              "      <td>3250.0</td>\n",
              "      <td>Female</td>\n",
              "    </tr>\n",
              "    <tr>\n",
              "      <th>4</th>\n",
              "      <td>Adelie</td>\n",
              "      <td>Torgersen</td>\n",
              "      <td>36.7</td>\n",
              "      <td>19.3</td>\n",
              "      <td>193.0</td>\n",
              "      <td>3450.0</td>\n",
              "      <td>Female</td>\n",
              "    </tr>\n",
              "    <tr>\n",
              "      <th>5</th>\n",
              "      <td>Adelie</td>\n",
              "      <td>Torgersen</td>\n",
              "      <td>39.3</td>\n",
              "      <td>20.6</td>\n",
              "      <td>190.0</td>\n",
              "      <td>3650.0</td>\n",
              "      <td>Male</td>\n",
              "    </tr>\n",
              "    <tr>\n",
              "      <th>...</th>\n",
              "      <td>...</td>\n",
              "      <td>...</td>\n",
              "      <td>...</td>\n",
              "      <td>...</td>\n",
              "      <td>...</td>\n",
              "      <td>...</td>\n",
              "      <td>...</td>\n",
              "    </tr>\n",
              "    <tr>\n",
              "      <th>338</th>\n",
              "      <td>Gentoo</td>\n",
              "      <td>Biscoe</td>\n",
              "      <td>47.2</td>\n",
              "      <td>13.7</td>\n",
              "      <td>214.0</td>\n",
              "      <td>4925.0</td>\n",
              "      <td>Female</td>\n",
              "    </tr>\n",
              "    <tr>\n",
              "      <th>340</th>\n",
              "      <td>Gentoo</td>\n",
              "      <td>Biscoe</td>\n",
              "      <td>46.8</td>\n",
              "      <td>14.3</td>\n",
              "      <td>215.0</td>\n",
              "      <td>4850.0</td>\n",
              "      <td>Female</td>\n",
              "    </tr>\n",
              "    <tr>\n",
              "      <th>341</th>\n",
              "      <td>Gentoo</td>\n",
              "      <td>Biscoe</td>\n",
              "      <td>50.4</td>\n",
              "      <td>15.7</td>\n",
              "      <td>222.0</td>\n",
              "      <td>5750.0</td>\n",
              "      <td>Male</td>\n",
              "    </tr>\n",
              "    <tr>\n",
              "      <th>342</th>\n",
              "      <td>Gentoo</td>\n",
              "      <td>Biscoe</td>\n",
              "      <td>45.2</td>\n",
              "      <td>14.8</td>\n",
              "      <td>212.0</td>\n",
              "      <td>5200.0</td>\n",
              "      <td>Female</td>\n",
              "    </tr>\n",
              "    <tr>\n",
              "      <th>343</th>\n",
              "      <td>Gentoo</td>\n",
              "      <td>Biscoe</td>\n",
              "      <td>49.9</td>\n",
              "      <td>16.1</td>\n",
              "      <td>213.0</td>\n",
              "      <td>5400.0</td>\n",
              "      <td>Male</td>\n",
              "    </tr>\n",
              "  </tbody>\n",
              "</table>\n",
              "<p>333 rows × 7 columns</p>\n",
              "</div>\n",
              "      <button class=\"colab-df-convert\" onclick=\"convertToInteractive('df-f32aa751-e40d-418b-86f4-ac566390d596')\"\n",
              "              title=\"Convert this dataframe to an interactive table.\"\n",
              "              style=\"display:none;\">\n",
              "        \n",
              "  <svg xmlns=\"http://www.w3.org/2000/svg\" height=\"24px\"viewBox=\"0 0 24 24\"\n",
              "       width=\"24px\">\n",
              "    <path d=\"M0 0h24v24H0V0z\" fill=\"none\"/>\n",
              "    <path d=\"M18.56 5.44l.94 2.06.94-2.06 2.06-.94-2.06-.94-.94-2.06-.94 2.06-2.06.94zm-11 1L8.5 8.5l.94-2.06 2.06-.94-2.06-.94L8.5 2.5l-.94 2.06-2.06.94zm10 10l.94 2.06.94-2.06 2.06-.94-2.06-.94-.94-2.06-.94 2.06-2.06.94z\"/><path d=\"M17.41 7.96l-1.37-1.37c-.4-.4-.92-.59-1.43-.59-.52 0-1.04.2-1.43.59L10.3 9.45l-7.72 7.72c-.78.78-.78 2.05 0 2.83L4 21.41c.39.39.9.59 1.41.59.51 0 1.02-.2 1.41-.59l7.78-7.78 2.81-2.81c.8-.78.8-2.07 0-2.86zM5.41 20L4 18.59l7.72-7.72 1.47 1.35L5.41 20z\"/>\n",
              "  </svg>\n",
              "      </button>\n",
              "      \n",
              "  <style>\n",
              "    .colab-df-container {\n",
              "      display:flex;\n",
              "      flex-wrap:wrap;\n",
              "      gap: 12px;\n",
              "    }\n",
              "\n",
              "    .colab-df-convert {\n",
              "      background-color: #E8F0FE;\n",
              "      border: none;\n",
              "      border-radius: 50%;\n",
              "      cursor: pointer;\n",
              "      display: none;\n",
              "      fill: #1967D2;\n",
              "      height: 32px;\n",
              "      padding: 0 0 0 0;\n",
              "      width: 32px;\n",
              "    }\n",
              "\n",
              "    .colab-df-convert:hover {\n",
              "      background-color: #E2EBFA;\n",
              "      box-shadow: 0px 1px 2px rgba(60, 64, 67, 0.3), 0px 1px 3px 1px rgba(60, 64, 67, 0.15);\n",
              "      fill: #174EA6;\n",
              "    }\n",
              "\n",
              "    [theme=dark] .colab-df-convert {\n",
              "      background-color: #3B4455;\n",
              "      fill: #D2E3FC;\n",
              "    }\n",
              "\n",
              "    [theme=dark] .colab-df-convert:hover {\n",
              "      background-color: #434B5C;\n",
              "      box-shadow: 0px 1px 3px 1px rgba(0, 0, 0, 0.15);\n",
              "      filter: drop-shadow(0px 1px 2px rgba(0, 0, 0, 0.3));\n",
              "      fill: #FFFFFF;\n",
              "    }\n",
              "  </style>\n",
              "\n",
              "      <script>\n",
              "        const buttonEl =\n",
              "          document.querySelector('#df-f32aa751-e40d-418b-86f4-ac566390d596 button.colab-df-convert');\n",
              "        buttonEl.style.display =\n",
              "          google.colab.kernel.accessAllowed ? 'block' : 'none';\n",
              "\n",
              "        async function convertToInteractive(key) {\n",
              "          const element = document.querySelector('#df-f32aa751-e40d-418b-86f4-ac566390d596');\n",
              "          const dataTable =\n",
              "            await google.colab.kernel.invokeFunction('convertToInteractive',\n",
              "                                                     [key], {});\n",
              "          if (!dataTable) return;\n",
              "\n",
              "          const docLinkHtml = 'Like what you see? Visit the ' +\n",
              "            '<a target=\"_blank\" href=https://colab.research.google.com/notebooks/data_table.ipynb>data table notebook</a>'\n",
              "            + ' to learn more about interactive tables.';\n",
              "          element.innerHTML = '';\n",
              "          dataTable['output_type'] = 'display_data';\n",
              "          await google.colab.output.renderOutput(dataTable, element);\n",
              "          const docLink = document.createElement('div');\n",
              "          docLink.innerHTML = docLinkHtml;\n",
              "          element.appendChild(docLink);\n",
              "        }\n",
              "      </script>\n",
              "    </div>\n",
              "  </div>\n",
              "  "
            ]
          },
          "metadata": {},
          "execution_count": 46
        }
      ]
    },
    {
      "cell_type": "markdown",
      "source": [
        "3. By default, will the function in Question 2 modify df_penguins or will it return a copy?"
      ],
      "metadata": {
        "id": "H5-OiNdwazAl"
      }
    },
    {
      "cell_type": "markdown",
      "source": [
        "by default it will return a copy"
      ],
      "metadata": {
        "id": "eWcMcvUmKKIP"
      }
    },
    {
      "cell_type": "markdown",
      "source": [
        "4. Let df_full be the dataframe obtained from dropping rows with missing data. What is the average bill length of a penguin, in millimeters, in this (df_full) data set?"
      ],
      "metadata": {
        "id": "fGpQs-HxbE-4"
      }
    },
    {
      "cell_type": "code",
      "source": [
        "df_full['bill_length_mm'].mean()"
      ],
      "metadata": {
        "colab": {
          "base_uri": "https://localhost:8080/"
        },
        "id": "sLkAIbTQKU_c",
        "outputId": "d416c4f4-bafd-455a-d134-50a16a27bf15"
      },
      "execution_count": null,
      "outputs": [
        {
          "output_type": "execute_result",
          "data": {
            "text/plain": [
              "43.99279279279279"
            ]
          },
          "metadata": {},
          "execution_count": 47
        }
      ]
    },
    {
      "cell_type": "markdown",
      "source": [
        "5. Which species has the longest flippers?"
      ],
      "metadata": {
        "id": "8G2PTyWXZu3Q"
      }
    },
    {
      "cell_type": "code",
      "source": [
        "idx = df_full['flipper_length_mm'].idxmax()\n",
        "df_full.loc[idx, 'species']"
      ],
      "metadata": {
        "id": "3t2CXujeUtJO",
        "colab": {
          "base_uri": "https://localhost:8080/",
          "height": 36
        },
        "outputId": "1bf44015-618b-4edd-96e4-c0279f22bb50"
      },
      "execution_count": null,
      "outputs": [
        {
          "output_type": "execute_result",
          "data": {
            "text/plain": [
              "'Gentoo'"
            ],
            "application/vnd.google.colaboratory.intrinsic+json": {
              "type": "string"
            }
          },
          "metadata": {},
          "execution_count": 55
        }
      ]
    },
    {
      "cell_type": "markdown",
      "source": [
        "6. Which two species have the most similar mean weight?"
      ],
      "metadata": {
        "id": "1cIOry3KZwVt"
      }
    },
    {
      "cell_type": "code",
      "source": [
        "info = df_full.groupby('species')['body_mass_g'].mean().to_dict()\n",
        "print(f'info = {info}')\n",
        "\n",
        "diff = np.infty\n",
        "arg_x = arg_y = None\n",
        "for x, wx in info.items():\n",
        "  for y, wy in info.items():\n",
        "    if x == y: continue\n",
        "\n",
        "    curr_diff = np.abs(wx - wy)\n",
        "    if curr_diff < diff:\n",
        "      arg_x, arg_y = x , y\n",
        "      diff = curr_diff\n",
        "\n",
        "print(f'species {arg_x} and {arg_y} have the most similar mean weight.')"
      ],
      "metadata": {
        "id": "SxrsVLOjUtLy",
        "colab": {
          "base_uri": "https://localhost:8080/"
        },
        "outputId": "d6439c20-2ef1-4722-c943-a911f40b587d"
      },
      "execution_count": null,
      "outputs": [
        {
          "output_type": "stream",
          "name": "stdout",
          "text": [
            "info = {'Adelie': 3706.1643835616437, 'Chinstrap': 3733.0882352941176, 'Gentoo': 5092.436974789916}\n",
            "species Adelie and Chinstrap have the most similar mean weight.\n"
          ]
        }
      ]
    },
    {
      "cell_type": "markdown",
      "source": [
        "7. How could you sort by species first, then by body mass?"
      ],
      "metadata": {
        "id": "KwYXrDn8Z1Zs"
      }
    },
    {
      "cell_type": "code",
      "source": [
        "df_full.sort_values(by=['species', 'body_mass_g'])"
      ],
      "metadata": {
        "id": "rPfIrl1HdHWf",
        "colab": {
          "base_uri": "https://localhost:8080/",
          "height": 424
        },
        "outputId": "eb481c37-b926-4d82-b47c-d6a2273b2cf9"
      },
      "execution_count": null,
      "outputs": [
        {
          "output_type": "execute_result",
          "data": {
            "text/plain": [
              "    species     island  bill_length_mm  bill_depth_mm  flipper_length_mm  \\\n",
              "58   Adelie     Biscoe            36.5           16.6              181.0   \n",
              "64   Adelie     Biscoe            36.4           17.1              184.0   \n",
              "54   Adelie     Biscoe            34.5           18.1              187.0   \n",
              "98   Adelie      Dream            33.1           16.1              178.0   \n",
              "116  Adelie  Torgersen            38.6           17.0              188.0   \n",
              "..      ...        ...             ...            ...                ...   \n",
              "331  Gentoo     Biscoe            49.8           15.9              229.0   \n",
              "297  Gentoo     Biscoe            51.1           16.3              220.0   \n",
              "337  Gentoo     Biscoe            48.8           16.2              222.0   \n",
              "253  Gentoo     Biscoe            59.6           17.0              230.0   \n",
              "237  Gentoo     Biscoe            49.2           15.2              221.0   \n",
              "\n",
              "     body_mass_g     sex  \n",
              "58        2850.0  Female  \n",
              "64        2850.0  Female  \n",
              "54        2900.0  Female  \n",
              "98        2900.0  Female  \n",
              "116       2900.0  Female  \n",
              "..           ...     ...  \n",
              "331       5950.0    Male  \n",
              "297       6000.0    Male  \n",
              "337       6000.0    Male  \n",
              "253       6050.0    Male  \n",
              "237       6300.0    Male  \n",
              "\n",
              "[333 rows x 7 columns]"
            ],
            "text/html": [
              "\n",
              "  <div id=\"df-dc0eacd1-69ed-4de5-adb6-34e843bca503\">\n",
              "    <div class=\"colab-df-container\">\n",
              "      <div>\n",
              "<style scoped>\n",
              "    .dataframe tbody tr th:only-of-type {\n",
              "        vertical-align: middle;\n",
              "    }\n",
              "\n",
              "    .dataframe tbody tr th {\n",
              "        vertical-align: top;\n",
              "    }\n",
              "\n",
              "    .dataframe thead th {\n",
              "        text-align: right;\n",
              "    }\n",
              "</style>\n",
              "<table border=\"1\" class=\"dataframe\">\n",
              "  <thead>\n",
              "    <tr style=\"text-align: right;\">\n",
              "      <th></th>\n",
              "      <th>species</th>\n",
              "      <th>island</th>\n",
              "      <th>bill_length_mm</th>\n",
              "      <th>bill_depth_mm</th>\n",
              "      <th>flipper_length_mm</th>\n",
              "      <th>body_mass_g</th>\n",
              "      <th>sex</th>\n",
              "    </tr>\n",
              "  </thead>\n",
              "  <tbody>\n",
              "    <tr>\n",
              "      <th>58</th>\n",
              "      <td>Adelie</td>\n",
              "      <td>Biscoe</td>\n",
              "      <td>36.5</td>\n",
              "      <td>16.6</td>\n",
              "      <td>181.0</td>\n",
              "      <td>2850.0</td>\n",
              "      <td>Female</td>\n",
              "    </tr>\n",
              "    <tr>\n",
              "      <th>64</th>\n",
              "      <td>Adelie</td>\n",
              "      <td>Biscoe</td>\n",
              "      <td>36.4</td>\n",
              "      <td>17.1</td>\n",
              "      <td>184.0</td>\n",
              "      <td>2850.0</td>\n",
              "      <td>Female</td>\n",
              "    </tr>\n",
              "    <tr>\n",
              "      <th>54</th>\n",
              "      <td>Adelie</td>\n",
              "      <td>Biscoe</td>\n",
              "      <td>34.5</td>\n",
              "      <td>18.1</td>\n",
              "      <td>187.0</td>\n",
              "      <td>2900.0</td>\n",
              "      <td>Female</td>\n",
              "    </tr>\n",
              "    <tr>\n",
              "      <th>98</th>\n",
              "      <td>Adelie</td>\n",
              "      <td>Dream</td>\n",
              "      <td>33.1</td>\n",
              "      <td>16.1</td>\n",
              "      <td>178.0</td>\n",
              "      <td>2900.0</td>\n",
              "      <td>Female</td>\n",
              "    </tr>\n",
              "    <tr>\n",
              "      <th>116</th>\n",
              "      <td>Adelie</td>\n",
              "      <td>Torgersen</td>\n",
              "      <td>38.6</td>\n",
              "      <td>17.0</td>\n",
              "      <td>188.0</td>\n",
              "      <td>2900.0</td>\n",
              "      <td>Female</td>\n",
              "    </tr>\n",
              "    <tr>\n",
              "      <th>...</th>\n",
              "      <td>...</td>\n",
              "      <td>...</td>\n",
              "      <td>...</td>\n",
              "      <td>...</td>\n",
              "      <td>...</td>\n",
              "      <td>...</td>\n",
              "      <td>...</td>\n",
              "    </tr>\n",
              "    <tr>\n",
              "      <th>331</th>\n",
              "      <td>Gentoo</td>\n",
              "      <td>Biscoe</td>\n",
              "      <td>49.8</td>\n",
              "      <td>15.9</td>\n",
              "      <td>229.0</td>\n",
              "      <td>5950.0</td>\n",
              "      <td>Male</td>\n",
              "    </tr>\n",
              "    <tr>\n",
              "      <th>297</th>\n",
              "      <td>Gentoo</td>\n",
              "      <td>Biscoe</td>\n",
              "      <td>51.1</td>\n",
              "      <td>16.3</td>\n",
              "      <td>220.0</td>\n",
              "      <td>6000.0</td>\n",
              "      <td>Male</td>\n",
              "    </tr>\n",
              "    <tr>\n",
              "      <th>337</th>\n",
              "      <td>Gentoo</td>\n",
              "      <td>Biscoe</td>\n",
              "      <td>48.8</td>\n",
              "      <td>16.2</td>\n",
              "      <td>222.0</td>\n",
              "      <td>6000.0</td>\n",
              "      <td>Male</td>\n",
              "    </tr>\n",
              "    <tr>\n",
              "      <th>253</th>\n",
              "      <td>Gentoo</td>\n",
              "      <td>Biscoe</td>\n",
              "      <td>59.6</td>\n",
              "      <td>17.0</td>\n",
              "      <td>230.0</td>\n",
              "      <td>6050.0</td>\n",
              "      <td>Male</td>\n",
              "    </tr>\n",
              "    <tr>\n",
              "      <th>237</th>\n",
              "      <td>Gentoo</td>\n",
              "      <td>Biscoe</td>\n",
              "      <td>49.2</td>\n",
              "      <td>15.2</td>\n",
              "      <td>221.0</td>\n",
              "      <td>6300.0</td>\n",
              "      <td>Male</td>\n",
              "    </tr>\n",
              "  </tbody>\n",
              "</table>\n",
              "<p>333 rows × 7 columns</p>\n",
              "</div>\n",
              "      <button class=\"colab-df-convert\" onclick=\"convertToInteractive('df-dc0eacd1-69ed-4de5-adb6-34e843bca503')\"\n",
              "              title=\"Convert this dataframe to an interactive table.\"\n",
              "              style=\"display:none;\">\n",
              "        \n",
              "  <svg xmlns=\"http://www.w3.org/2000/svg\" height=\"24px\"viewBox=\"0 0 24 24\"\n",
              "       width=\"24px\">\n",
              "    <path d=\"M0 0h24v24H0V0z\" fill=\"none\"/>\n",
              "    <path d=\"M18.56 5.44l.94 2.06.94-2.06 2.06-.94-2.06-.94-.94-2.06-.94 2.06-2.06.94zm-11 1L8.5 8.5l.94-2.06 2.06-.94-2.06-.94L8.5 2.5l-.94 2.06-2.06.94zm10 10l.94 2.06.94-2.06 2.06-.94-2.06-.94-.94-2.06-.94 2.06-2.06.94z\"/><path d=\"M17.41 7.96l-1.37-1.37c-.4-.4-.92-.59-1.43-.59-.52 0-1.04.2-1.43.59L10.3 9.45l-7.72 7.72c-.78.78-.78 2.05 0 2.83L4 21.41c.39.39.9.59 1.41.59.51 0 1.02-.2 1.41-.59l7.78-7.78 2.81-2.81c.8-.78.8-2.07 0-2.86zM5.41 20L4 18.59l7.72-7.72 1.47 1.35L5.41 20z\"/>\n",
              "  </svg>\n",
              "      </button>\n",
              "      \n",
              "  <style>\n",
              "    .colab-df-container {\n",
              "      display:flex;\n",
              "      flex-wrap:wrap;\n",
              "      gap: 12px;\n",
              "    }\n",
              "\n",
              "    .colab-df-convert {\n",
              "      background-color: #E8F0FE;\n",
              "      border: none;\n",
              "      border-radius: 50%;\n",
              "      cursor: pointer;\n",
              "      display: none;\n",
              "      fill: #1967D2;\n",
              "      height: 32px;\n",
              "      padding: 0 0 0 0;\n",
              "      width: 32px;\n",
              "    }\n",
              "\n",
              "    .colab-df-convert:hover {\n",
              "      background-color: #E2EBFA;\n",
              "      box-shadow: 0px 1px 2px rgba(60, 64, 67, 0.3), 0px 1px 3px 1px rgba(60, 64, 67, 0.15);\n",
              "      fill: #174EA6;\n",
              "    }\n",
              "\n",
              "    [theme=dark] .colab-df-convert {\n",
              "      background-color: #3B4455;\n",
              "      fill: #D2E3FC;\n",
              "    }\n",
              "\n",
              "    [theme=dark] .colab-df-convert:hover {\n",
              "      background-color: #434B5C;\n",
              "      box-shadow: 0px 1px 3px 1px rgba(0, 0, 0, 0.15);\n",
              "      filter: drop-shadow(0px 1px 2px rgba(0, 0, 0, 0.3));\n",
              "      fill: #FFFFFF;\n",
              "    }\n",
              "  </style>\n",
              "\n",
              "      <script>\n",
              "        const buttonEl =\n",
              "          document.querySelector('#df-dc0eacd1-69ed-4de5-adb6-34e843bca503 button.colab-df-convert');\n",
              "        buttonEl.style.display =\n",
              "          google.colab.kernel.accessAllowed ? 'block' : 'none';\n",
              "\n",
              "        async function convertToInteractive(key) {\n",
              "          const element = document.querySelector('#df-dc0eacd1-69ed-4de5-adb6-34e843bca503');\n",
              "          const dataTable =\n",
              "            await google.colab.kernel.invokeFunction('convertToInteractive',\n",
              "                                                     [key], {});\n",
              "          if (!dataTable) return;\n",
              "\n",
              "          const docLinkHtml = 'Like what you see? Visit the ' +\n",
              "            '<a target=\"_blank\" href=https://colab.research.google.com/notebooks/data_table.ipynb>data table notebook</a>'\n",
              "            + ' to learn more about interactive tables.';\n",
              "          element.innerHTML = '';\n",
              "          dataTable['output_type'] = 'display_data';\n",
              "          await google.colab.output.renderOutput(dataTable, element);\n",
              "          const docLink = document.createElement('div');\n",
              "          docLink.innerHTML = docLinkHtml;\n",
              "          element.appendChild(docLink);\n",
              "        }\n",
              "      </script>\n",
              "    </div>\n",
              "  </div>\n",
              "  "
            ]
          },
          "metadata": {},
          "execution_count": 63
        }
      ]
    },
    {
      "cell_type": "markdown",
      "source": [
        "The following three questions depend on the taxis dataset."
      ],
      "metadata": {
        "id": "bRR0ove1aLBL"
      }
    },
    {
      "cell_type": "code",
      "source": [
        "df_taxis = sb.load_dataset('taxis')"
      ],
      "metadata": {
        "id": "UXIN5IwbUtOd"
      },
      "execution_count": null,
      "outputs": []
    },
    {
      "cell_type": "markdown",
      "source": [
        "8. The 'pickup' column contains the date and time the customer picked up, but it's a string.  Add a column to the DataFrame, 'pickup_time', containing the value in 'pickup' as a DateTime."
      ],
      "metadata": {
        "id": "3oh5_pHEbrQp"
      }
    },
    {
      "cell_type": "code",
      "source": [
        "df_taxis = df_taxis.assign(pickup_time=pd.to_datetime(df_taxis['pickup']))"
      ],
      "metadata": {
        "id": "coNwd-OjUtTp"
      },
      "execution_count": null,
      "outputs": []
    },
    {
      "cell_type": "markdown",
      "source": [
        "9. Create a subset of the dataframe to create a new DataFrame, taxis_one_day. This new DataFrame should have pickup_time values between '2019-03-23 00:06:00' (inclusive) and '2019-03-24 00:00:00' (exlusive)."
      ],
      "metadata": {
        "id": "f7rfz-d2cSRe"
      }
    },
    {
      "cell_type": "code",
      "source": [
        "start_time = pd.to_datetime('2019-03-23 00:06:00')\n",
        "end_time = pd.to_datetime('2019-03-24 00:00:00')\n",
        "taxis_one_day = df_taxis[(df_taxis['pickup_time'] >= start_time) & (df_taxis['pickup_time'] < end_time)]"
      ],
      "metadata": {
        "id": "AfcUTYPVbjAK"
      },
      "execution_count": null,
      "outputs": []
    },
    {
      "cell_type": "markdown",
      "source": [
        "10. From the dataframe in Question 9, take the mean of the numeric columns, grouped at one hour intervals.  Save the result as df_means, and display it."
      ],
      "metadata": {
        "id": "k9ErqDN-cf84"
      }
    },
    {
      "cell_type": "code",
      "source": [
        "tmp_df = taxis_one_day.assign(hour=taxis_one_day['pickup_time'].apply(lambda x : x.hour))\n",
        "df_means = tmp_df.drop(columns=['pickup_time']).groupby('hour').mean()\n",
        "df_means"
      ],
      "metadata": {
        "id": "Ul7rGs1bbjC8",
        "colab": {
          "base_uri": "https://localhost:8080/",
          "height": 833
        },
        "outputId": "59b0de08-ccc4-4071-c5b5-2526e6d5d9e9"
      },
      "execution_count": null,
      "outputs": [
        {
          "output_type": "execute_result",
          "data": {
            "text/plain": [
              "      passengers  distance       fare       tip     tolls      total\n",
              "hour                                                                \n",
              "0       1.000000  1.911667   8.583333  1.415000  0.000000  12.965000\n",
              "1       1.250000  1.325000   7.875000  1.525000  0.000000  12.575000\n",
              "2       1.727273  1.739091   8.181818  1.641818  0.000000  13.169091\n",
              "3       1.500000  3.377500  11.750000  2.410000  0.000000  17.335000\n",
              "4       2.000000  0.950000   5.500000  0.915000  0.000000  10.215000\n",
              "5       2.000000  1.270000   6.000000  0.980000  0.000000  10.530000\n",
              "6       1.000000  0.400000  21.500000  0.000000  0.000000  23.133333\n",
              "7       2.333333  0.980000   5.250000  1.165000  0.000000   9.298333\n",
              "8       1.000000  0.020000   2.500000  0.000000  0.000000   3.300000\n",
              "9       1.500000  1.352000   7.400000  1.674000  0.000000  12.124000\n",
              "10      1.000000  1.760000   8.750000  0.727500  0.000000  12.152500\n",
              "11      1.909091  2.070000  11.090909  0.803636  0.000000  14.667273\n",
              "12      2.000000  2.267143  10.260000  0.645714  0.000000  13.420000\n",
              "13      2.500000  1.167000   7.550000  2.074000  0.000000  12.344000\n",
              "14      2.470588  4.752941  18.330000  1.945294  1.003529  24.267059\n",
              "15      1.000000  6.557143  22.214286  3.210000  1.645714  30.370000\n",
              "16      2.000000  2.194545  10.454545  1.109091  0.000000  14.431818\n",
              "17      1.090909  1.913636  14.818182  2.688182  0.523636  20.739091\n",
              "18      1.571429  3.206429  12.821429  0.844286  0.411429  16.427143\n",
              "19      1.526316  2.097895  10.263158  1.176316  0.000000  14.226316\n",
              "20      1.400000  2.448000  11.100000  1.544000  0.000000  15.944000\n",
              "21      1.000000  2.017143  10.571429  1.420000  0.000000  15.791429\n",
              "22      1.307692  1.881538   8.923077  1.094615  0.000000  13.433077\n",
              "23      1.615385  3.725385  15.115385  1.696154  0.000000  20.034615"
            ],
            "text/html": [
              "\n",
              "  <div id=\"df-df1f4f07-35ad-4b65-bfd7-da90d0b9d5e9\">\n",
              "    <div class=\"colab-df-container\">\n",
              "      <div>\n",
              "<style scoped>\n",
              "    .dataframe tbody tr th:only-of-type {\n",
              "        vertical-align: middle;\n",
              "    }\n",
              "\n",
              "    .dataframe tbody tr th {\n",
              "        vertical-align: top;\n",
              "    }\n",
              "\n",
              "    .dataframe thead th {\n",
              "        text-align: right;\n",
              "    }\n",
              "</style>\n",
              "<table border=\"1\" class=\"dataframe\">\n",
              "  <thead>\n",
              "    <tr style=\"text-align: right;\">\n",
              "      <th></th>\n",
              "      <th>passengers</th>\n",
              "      <th>distance</th>\n",
              "      <th>fare</th>\n",
              "      <th>tip</th>\n",
              "      <th>tolls</th>\n",
              "      <th>total</th>\n",
              "    </tr>\n",
              "    <tr>\n",
              "      <th>hour</th>\n",
              "      <th></th>\n",
              "      <th></th>\n",
              "      <th></th>\n",
              "      <th></th>\n",
              "      <th></th>\n",
              "      <th></th>\n",
              "    </tr>\n",
              "  </thead>\n",
              "  <tbody>\n",
              "    <tr>\n",
              "      <th>0</th>\n",
              "      <td>1.000000</td>\n",
              "      <td>1.911667</td>\n",
              "      <td>8.583333</td>\n",
              "      <td>1.415000</td>\n",
              "      <td>0.000000</td>\n",
              "      <td>12.965000</td>\n",
              "    </tr>\n",
              "    <tr>\n",
              "      <th>1</th>\n",
              "      <td>1.250000</td>\n",
              "      <td>1.325000</td>\n",
              "      <td>7.875000</td>\n",
              "      <td>1.525000</td>\n",
              "      <td>0.000000</td>\n",
              "      <td>12.575000</td>\n",
              "    </tr>\n",
              "    <tr>\n",
              "      <th>2</th>\n",
              "      <td>1.727273</td>\n",
              "      <td>1.739091</td>\n",
              "      <td>8.181818</td>\n",
              "      <td>1.641818</td>\n",
              "      <td>0.000000</td>\n",
              "      <td>13.169091</td>\n",
              "    </tr>\n",
              "    <tr>\n",
              "      <th>3</th>\n",
              "      <td>1.500000</td>\n",
              "      <td>3.377500</td>\n",
              "      <td>11.750000</td>\n",
              "      <td>2.410000</td>\n",
              "      <td>0.000000</td>\n",
              "      <td>17.335000</td>\n",
              "    </tr>\n",
              "    <tr>\n",
              "      <th>4</th>\n",
              "      <td>2.000000</td>\n",
              "      <td>0.950000</td>\n",
              "      <td>5.500000</td>\n",
              "      <td>0.915000</td>\n",
              "      <td>0.000000</td>\n",
              "      <td>10.215000</td>\n",
              "    </tr>\n",
              "    <tr>\n",
              "      <th>5</th>\n",
              "      <td>2.000000</td>\n",
              "      <td>1.270000</td>\n",
              "      <td>6.000000</td>\n",
              "      <td>0.980000</td>\n",
              "      <td>0.000000</td>\n",
              "      <td>10.530000</td>\n",
              "    </tr>\n",
              "    <tr>\n",
              "      <th>6</th>\n",
              "      <td>1.000000</td>\n",
              "      <td>0.400000</td>\n",
              "      <td>21.500000</td>\n",
              "      <td>0.000000</td>\n",
              "      <td>0.000000</td>\n",
              "      <td>23.133333</td>\n",
              "    </tr>\n",
              "    <tr>\n",
              "      <th>7</th>\n",
              "      <td>2.333333</td>\n",
              "      <td>0.980000</td>\n",
              "      <td>5.250000</td>\n",
              "      <td>1.165000</td>\n",
              "      <td>0.000000</td>\n",
              "      <td>9.298333</td>\n",
              "    </tr>\n",
              "    <tr>\n",
              "      <th>8</th>\n",
              "      <td>1.000000</td>\n",
              "      <td>0.020000</td>\n",
              "      <td>2.500000</td>\n",
              "      <td>0.000000</td>\n",
              "      <td>0.000000</td>\n",
              "      <td>3.300000</td>\n",
              "    </tr>\n",
              "    <tr>\n",
              "      <th>9</th>\n",
              "      <td>1.500000</td>\n",
              "      <td>1.352000</td>\n",
              "      <td>7.400000</td>\n",
              "      <td>1.674000</td>\n",
              "      <td>0.000000</td>\n",
              "      <td>12.124000</td>\n",
              "    </tr>\n",
              "    <tr>\n",
              "      <th>10</th>\n",
              "      <td>1.000000</td>\n",
              "      <td>1.760000</td>\n",
              "      <td>8.750000</td>\n",
              "      <td>0.727500</td>\n",
              "      <td>0.000000</td>\n",
              "      <td>12.152500</td>\n",
              "    </tr>\n",
              "    <tr>\n",
              "      <th>11</th>\n",
              "      <td>1.909091</td>\n",
              "      <td>2.070000</td>\n",
              "      <td>11.090909</td>\n",
              "      <td>0.803636</td>\n",
              "      <td>0.000000</td>\n",
              "      <td>14.667273</td>\n",
              "    </tr>\n",
              "    <tr>\n",
              "      <th>12</th>\n",
              "      <td>2.000000</td>\n",
              "      <td>2.267143</td>\n",
              "      <td>10.260000</td>\n",
              "      <td>0.645714</td>\n",
              "      <td>0.000000</td>\n",
              "      <td>13.420000</td>\n",
              "    </tr>\n",
              "    <tr>\n",
              "      <th>13</th>\n",
              "      <td>2.500000</td>\n",
              "      <td>1.167000</td>\n",
              "      <td>7.550000</td>\n",
              "      <td>2.074000</td>\n",
              "      <td>0.000000</td>\n",
              "      <td>12.344000</td>\n",
              "    </tr>\n",
              "    <tr>\n",
              "      <th>14</th>\n",
              "      <td>2.470588</td>\n",
              "      <td>4.752941</td>\n",
              "      <td>18.330000</td>\n",
              "      <td>1.945294</td>\n",
              "      <td>1.003529</td>\n",
              "      <td>24.267059</td>\n",
              "    </tr>\n",
              "    <tr>\n",
              "      <th>15</th>\n",
              "      <td>1.000000</td>\n",
              "      <td>6.557143</td>\n",
              "      <td>22.214286</td>\n",
              "      <td>3.210000</td>\n",
              "      <td>1.645714</td>\n",
              "      <td>30.370000</td>\n",
              "    </tr>\n",
              "    <tr>\n",
              "      <th>16</th>\n",
              "      <td>2.000000</td>\n",
              "      <td>2.194545</td>\n",
              "      <td>10.454545</td>\n",
              "      <td>1.109091</td>\n",
              "      <td>0.000000</td>\n",
              "      <td>14.431818</td>\n",
              "    </tr>\n",
              "    <tr>\n",
              "      <th>17</th>\n",
              "      <td>1.090909</td>\n",
              "      <td>1.913636</td>\n",
              "      <td>14.818182</td>\n",
              "      <td>2.688182</td>\n",
              "      <td>0.523636</td>\n",
              "      <td>20.739091</td>\n",
              "    </tr>\n",
              "    <tr>\n",
              "      <th>18</th>\n",
              "      <td>1.571429</td>\n",
              "      <td>3.206429</td>\n",
              "      <td>12.821429</td>\n",
              "      <td>0.844286</td>\n",
              "      <td>0.411429</td>\n",
              "      <td>16.427143</td>\n",
              "    </tr>\n",
              "    <tr>\n",
              "      <th>19</th>\n",
              "      <td>1.526316</td>\n",
              "      <td>2.097895</td>\n",
              "      <td>10.263158</td>\n",
              "      <td>1.176316</td>\n",
              "      <td>0.000000</td>\n",
              "      <td>14.226316</td>\n",
              "    </tr>\n",
              "    <tr>\n",
              "      <th>20</th>\n",
              "      <td>1.400000</td>\n",
              "      <td>2.448000</td>\n",
              "      <td>11.100000</td>\n",
              "      <td>1.544000</td>\n",
              "      <td>0.000000</td>\n",
              "      <td>15.944000</td>\n",
              "    </tr>\n",
              "    <tr>\n",
              "      <th>21</th>\n",
              "      <td>1.000000</td>\n",
              "      <td>2.017143</td>\n",
              "      <td>10.571429</td>\n",
              "      <td>1.420000</td>\n",
              "      <td>0.000000</td>\n",
              "      <td>15.791429</td>\n",
              "    </tr>\n",
              "    <tr>\n",
              "      <th>22</th>\n",
              "      <td>1.307692</td>\n",
              "      <td>1.881538</td>\n",
              "      <td>8.923077</td>\n",
              "      <td>1.094615</td>\n",
              "      <td>0.000000</td>\n",
              "      <td>13.433077</td>\n",
              "    </tr>\n",
              "    <tr>\n",
              "      <th>23</th>\n",
              "      <td>1.615385</td>\n",
              "      <td>3.725385</td>\n",
              "      <td>15.115385</td>\n",
              "      <td>1.696154</td>\n",
              "      <td>0.000000</td>\n",
              "      <td>20.034615</td>\n",
              "    </tr>\n",
              "  </tbody>\n",
              "</table>\n",
              "</div>\n",
              "      <button class=\"colab-df-convert\" onclick=\"convertToInteractive('df-df1f4f07-35ad-4b65-bfd7-da90d0b9d5e9')\"\n",
              "              title=\"Convert this dataframe to an interactive table.\"\n",
              "              style=\"display:none;\">\n",
              "        \n",
              "  <svg xmlns=\"http://www.w3.org/2000/svg\" height=\"24px\"viewBox=\"0 0 24 24\"\n",
              "       width=\"24px\">\n",
              "    <path d=\"M0 0h24v24H0V0z\" fill=\"none\"/>\n",
              "    <path d=\"M18.56 5.44l.94 2.06.94-2.06 2.06-.94-2.06-.94-.94-2.06-.94 2.06-2.06.94zm-11 1L8.5 8.5l.94-2.06 2.06-.94-2.06-.94L8.5 2.5l-.94 2.06-2.06.94zm10 10l.94 2.06.94-2.06 2.06-.94-2.06-.94-.94-2.06-.94 2.06-2.06.94z\"/><path d=\"M17.41 7.96l-1.37-1.37c-.4-.4-.92-.59-1.43-.59-.52 0-1.04.2-1.43.59L10.3 9.45l-7.72 7.72c-.78.78-.78 2.05 0 2.83L4 21.41c.39.39.9.59 1.41.59.51 0 1.02-.2 1.41-.59l7.78-7.78 2.81-2.81c.8-.78.8-2.07 0-2.86zM5.41 20L4 18.59l7.72-7.72 1.47 1.35L5.41 20z\"/>\n",
              "  </svg>\n",
              "      </button>\n",
              "      \n",
              "  <style>\n",
              "    .colab-df-container {\n",
              "      display:flex;\n",
              "      flex-wrap:wrap;\n",
              "      gap: 12px;\n",
              "    }\n",
              "\n",
              "    .colab-df-convert {\n",
              "      background-color: #E8F0FE;\n",
              "      border: none;\n",
              "      border-radius: 50%;\n",
              "      cursor: pointer;\n",
              "      display: none;\n",
              "      fill: #1967D2;\n",
              "      height: 32px;\n",
              "      padding: 0 0 0 0;\n",
              "      width: 32px;\n",
              "    }\n",
              "\n",
              "    .colab-df-convert:hover {\n",
              "      background-color: #E2EBFA;\n",
              "      box-shadow: 0px 1px 2px rgba(60, 64, 67, 0.3), 0px 1px 3px 1px rgba(60, 64, 67, 0.15);\n",
              "      fill: #174EA6;\n",
              "    }\n",
              "\n",
              "    [theme=dark] .colab-df-convert {\n",
              "      background-color: #3B4455;\n",
              "      fill: #D2E3FC;\n",
              "    }\n",
              "\n",
              "    [theme=dark] .colab-df-convert:hover {\n",
              "      background-color: #434B5C;\n",
              "      box-shadow: 0px 1px 3px 1px rgba(0, 0, 0, 0.15);\n",
              "      filter: drop-shadow(0px 1px 2px rgba(0, 0, 0, 0.3));\n",
              "      fill: #FFFFFF;\n",
              "    }\n",
              "  </style>\n",
              "\n",
              "      <script>\n",
              "        const buttonEl =\n",
              "          document.querySelector('#df-df1f4f07-35ad-4b65-bfd7-da90d0b9d5e9 button.colab-df-convert');\n",
              "        buttonEl.style.display =\n",
              "          google.colab.kernel.accessAllowed ? 'block' : 'none';\n",
              "\n",
              "        async function convertToInteractive(key) {\n",
              "          const element = document.querySelector('#df-df1f4f07-35ad-4b65-bfd7-da90d0b9d5e9');\n",
              "          const dataTable =\n",
              "            await google.colab.kernel.invokeFunction('convertToInteractive',\n",
              "                                                     [key], {});\n",
              "          if (!dataTable) return;\n",
              "\n",
              "          const docLinkHtml = 'Like what you see? Visit the ' +\n",
              "            '<a target=\"_blank\" href=https://colab.research.google.com/notebooks/data_table.ipynb>data table notebook</a>'\n",
              "            + ' to learn more about interactive tables.';\n",
              "          element.innerHTML = '';\n",
              "          dataTable['output_type'] = 'display_data';\n",
              "          await google.colab.output.renderOutput(dataTable, element);\n",
              "          const docLink = document.createElement('div');\n",
              "          docLink.innerHTML = docLinkHtml;\n",
              "          element.appendChild(docLink);\n",
              "        }\n",
              "      </script>\n",
              "    </div>\n",
              "  </div>\n",
              "  "
            ]
          },
          "metadata": {},
          "execution_count": 79
        }
      ]
    },
    {
      "cell_type": "markdown",
      "source": [
        "Check https://colab.research.google.com/github/CodeSolid/CodeSolid.github.io/blob/main/booksource/exercises/PandasExercises.ipynb for more Pandas exercises."
      ],
      "metadata": {
        "id": "gGLHwogaZX0-"
      }
    },
    {
      "cell_type": "code",
      "source": [
        ""
      ],
      "metadata": {
        "id": "Yag0a9H7ZbQe"
      },
      "execution_count": null,
      "outputs": []
    }
  ]
}